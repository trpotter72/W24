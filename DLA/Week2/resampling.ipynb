{
 "cells": [
  {
   "cell_type": "markdown",
   "metadata": {},
   "source": [
    "# Data, Learning, and Algorithms\n",
    "\n",
    "## Week 2 Resampling\n",
    "\n",
    "Trent Potter - '25 MBA\n",
    "\n",
    "## Overview\n",
    "\n",
    "1. Dataset & \"Eigenratio\" generation\n",
    "2. Bootstrap to Calculate $\\hat{se}_{boot}(\\hat{\\theta})$\n",
    "3. Jack Knife to Calculate $\\hat{se}_{jack}(\\hat{\\theta})$\n"
   ]
  },
  {
   "cell_type": "markdown",
   "metadata": {},
   "source": [
    "### 1) Dataset & Eigen Ratio Generation\n",
    "\n",
    "Reproducing table 10.2 from CASI. Data found here: [link](https://hastie.su.domains/CASI_files/DATA/student_score.txt)\n"
   ]
  },
  {
   "cell_type": "code",
   "execution_count": 2,
   "metadata": {},
   "outputs": [],
   "source": [
    "import pandas as pd\n",
    "import numpy as np\n",
    "\n",
    "pd.set_option('display.precision', 2)"
   ]
  },
  {
   "cell_type": "code",
   "execution_count": 3,
   "metadata": {},
   "outputs": [
    {
     "data": {
      "text/html": [
       "<div>\n",
       "<style scoped>\n",
       "    .dataframe tbody tr th:only-of-type {\n",
       "        vertical-align: middle;\n",
       "    }\n",
       "\n",
       "    .dataframe tbody tr th {\n",
       "        vertical-align: top;\n",
       "    }\n",
       "\n",
       "    .dataframe thead th {\n",
       "        text-align: right;\n",
       "    }\n",
       "</style>\n",
       "<table border=\"1\" class=\"dataframe\">\n",
       "  <thead>\n",
       "    <tr style=\"text-align: right;\">\n",
       "      <th></th>\n",
       "      <th>mech</th>\n",
       "      <th>vecs</th>\n",
       "      <th>alg</th>\n",
       "      <th>analy</th>\n",
       "      <th>stat</th>\n",
       "    </tr>\n",
       "  </thead>\n",
       "  <tbody>\n",
       "    <tr>\n",
       "      <th>0</th>\n",
       "      <td>7</td>\n",
       "      <td>51</td>\n",
       "      <td>43</td>\n",
       "      <td>17</td>\n",
       "      <td>22</td>\n",
       "    </tr>\n",
       "    <tr>\n",
       "      <th>1</th>\n",
       "      <td>44</td>\n",
       "      <td>69</td>\n",
       "      <td>53</td>\n",
       "      <td>53</td>\n",
       "      <td>53</td>\n",
       "    </tr>\n",
       "    <tr>\n",
       "      <th>2</th>\n",
       "      <td>49</td>\n",
       "      <td>41</td>\n",
       "      <td>61</td>\n",
       "      <td>49</td>\n",
       "      <td>64</td>\n",
       "    </tr>\n",
       "    <tr>\n",
       "      <th>3</th>\n",
       "      <td>59</td>\n",
       "      <td>70</td>\n",
       "      <td>68</td>\n",
       "      <td>62</td>\n",
       "      <td>56</td>\n",
       "    </tr>\n",
       "    <tr>\n",
       "      <th>4</th>\n",
       "      <td>34</td>\n",
       "      <td>42</td>\n",
       "      <td>50</td>\n",
       "      <td>47</td>\n",
       "      <td>29</td>\n",
       "    </tr>\n",
       "  </tbody>\n",
       "</table>\n",
       "</div>"
      ],
      "text/plain": [
       "   mech  vecs  alg  analy  stat\n",
       "0     7    51   43     17    22\n",
       "1    44    69   53     53    53\n",
       "2    49    41   61     49    64\n",
       "3    59    70   68     62    56\n",
       "4    34    42   50     47    29"
      ]
     },
     "execution_count": 3,
     "metadata": {},
     "output_type": "execute_result"
    }
   ],
   "source": [
    "# Load data\n",
    "scores_df = pd.read_csv('student_score.txt',sep=' ')\n",
    "scores_df.head()"
   ]
  },
  {
   "cell_type": "code",
   "execution_count": 4,
   "metadata": {},
   "outputs": [
    {
     "data": {
      "text/html": [
       "<style type=\"text/css\">\n",
       "#T_bcf2a_row0_col0, #T_bcf2a_row1_col1, #T_bcf2a_row2_col2, #T_bcf2a_row3_col3, #T_bcf2a_row4_col4 {\n",
       "  background-color: #b40426;\n",
       "  color: #f1f1f1;\n",
       "}\n",
       "#T_bcf2a_row0_col1, #T_bcf2a_row1_col0 {\n",
       "  background-color: #f49a7b;\n",
       "  color: #000000;\n",
       "}\n",
       "#T_bcf2a_row0_col2, #T_bcf2a_row2_col0 {\n",
       "  background-color: #dd5f4b;\n",
       "  color: #f1f1f1;\n",
       "}\n",
       "#T_bcf2a_row0_col3, #T_bcf2a_row3_col0 {\n",
       "  background-color: #e9785d;\n",
       "  color: #f1f1f1;\n",
       "}\n",
       "#T_bcf2a_row0_col4, #T_bcf2a_row4_col0 {\n",
       "  background-color: #f29274;\n",
       "  color: #f1f1f1;\n",
       "}\n",
       "#T_bcf2a_row1_col2, #T_bcf2a_row2_col1 {\n",
       "  background-color: #ee8669;\n",
       "  color: #f1f1f1;\n",
       "}\n",
       "#T_bcf2a_row1_col3, #T_bcf2a_row3_col1 {\n",
       "  background-color: #f4987a;\n",
       "  color: #000000;\n",
       "}\n",
       "#T_bcf2a_row1_col4, #T_bcf2a_row4_col1 {\n",
       "  background-color: #f7b093;\n",
       "  color: #000000;\n",
       "}\n",
       "#T_bcf2a_row2_col3, #T_bcf2a_row3_col2 {\n",
       "  background-color: #dc5d4a;\n",
       "  color: #f1f1f1;\n",
       "}\n",
       "#T_bcf2a_row2_col4, #T_bcf2a_row4_col2 {\n",
       "  background-color: #e7745b;\n",
       "  color: #f1f1f1;\n",
       "}\n",
       "#T_bcf2a_row3_col4, #T_bcf2a_row4_col3 {\n",
       "  background-color: #df634e;\n",
       "  color: #f1f1f1;\n",
       "}\n",
       "</style>\n",
       "<table id=\"T_bcf2a\">\n",
       "  <thead>\n",
       "    <tr>\n",
       "      <th class=\"blank level0\" >&nbsp;</th>\n",
       "      <th id=\"T_bcf2a_level0_col0\" class=\"col_heading level0 col0\" >mech</th>\n",
       "      <th id=\"T_bcf2a_level0_col1\" class=\"col_heading level0 col1\" >vecs</th>\n",
       "      <th id=\"T_bcf2a_level0_col2\" class=\"col_heading level0 col2\" >alg</th>\n",
       "      <th id=\"T_bcf2a_level0_col3\" class=\"col_heading level0 col3\" >analy</th>\n",
       "      <th id=\"T_bcf2a_level0_col4\" class=\"col_heading level0 col4\" >stat</th>\n",
       "    </tr>\n",
       "  </thead>\n",
       "  <tbody>\n",
       "    <tr>\n",
       "      <th id=\"T_bcf2a_level0_row0\" class=\"row_heading level0 row0\" >mech</th>\n",
       "      <td id=\"T_bcf2a_row0_col0\" class=\"data row0 col0\" >1.000000</td>\n",
       "      <td id=\"T_bcf2a_row0_col1\" class=\"data row0 col1\" >0.497807</td>\n",
       "      <td id=\"T_bcf2a_row0_col2\" class=\"data row0 col2\" >0.756036</td>\n",
       "      <td id=\"T_bcf2a_row0_col3\" class=\"data row0 col3\" >0.653476</td>\n",
       "      <td id=\"T_bcf2a_row0_col4\" class=\"data row0 col4\" >0.535774</td>\n",
       "    </tr>\n",
       "    <tr>\n",
       "      <th id=\"T_bcf2a_level0_row1\" class=\"row_heading level0 row1\" >vecs</th>\n",
       "      <td id=\"T_bcf2a_row1_col0\" class=\"data row1 col0\" >0.497807</td>\n",
       "      <td id=\"T_bcf2a_row1_col1\" class=\"data row1 col1\" >1.000000</td>\n",
       "      <td id=\"T_bcf2a_row1_col2\" class=\"data row1 col2\" >0.592262</td>\n",
       "      <td id=\"T_bcf2a_row1_col3\" class=\"data row1 col3\" >0.507135</td>\n",
       "      <td id=\"T_bcf2a_row1_col4\" class=\"data row1 col4\" >0.378604</td>\n",
       "    </tr>\n",
       "    <tr>\n",
       "      <th id=\"T_bcf2a_level0_row2\" class=\"row_heading level0 row2\" >alg</th>\n",
       "      <td id=\"T_bcf2a_row2_col0\" class=\"data row2 col0\" >0.756036</td>\n",
       "      <td id=\"T_bcf2a_row2_col1\" class=\"data row2 col1\" >0.592262</td>\n",
       "      <td id=\"T_bcf2a_row2_col2\" class=\"data row2 col2\" >1.000000</td>\n",
       "      <td id=\"T_bcf2a_row2_col3\" class=\"data row2 col3\" >0.762755</td>\n",
       "      <td id=\"T_bcf2a_row2_col4\" class=\"data row2 col4\" >0.669825</td>\n",
       "    </tr>\n",
       "    <tr>\n",
       "      <th id=\"T_bcf2a_level0_row3\" class=\"row_heading level0 row3\" >analy</th>\n",
       "      <td id=\"T_bcf2a_row3_col0\" class=\"data row3 col0\" >0.653476</td>\n",
       "      <td id=\"T_bcf2a_row3_col1\" class=\"data row3 col1\" >0.507135</td>\n",
       "      <td id=\"T_bcf2a_row3_col2\" class=\"data row3 col2\" >0.762755</td>\n",
       "      <td id=\"T_bcf2a_row3_col3\" class=\"data row3 col3\" >1.000000</td>\n",
       "      <td id=\"T_bcf2a_row3_col4\" class=\"data row3 col4\" >0.737671</td>\n",
       "    </tr>\n",
       "    <tr>\n",
       "      <th id=\"T_bcf2a_level0_row4\" class=\"row_heading level0 row4\" >stat</th>\n",
       "      <td id=\"T_bcf2a_row4_col0\" class=\"data row4 col0\" >0.535774</td>\n",
       "      <td id=\"T_bcf2a_row4_col1\" class=\"data row4 col1\" >0.378604</td>\n",
       "      <td id=\"T_bcf2a_row4_col2\" class=\"data row4 col2\" >0.669825</td>\n",
       "      <td id=\"T_bcf2a_row4_col3\" class=\"data row4 col3\" >0.737671</td>\n",
       "      <td id=\"T_bcf2a_row4_col4\" class=\"data row4 col4\" >1.000000</td>\n",
       "    </tr>\n",
       "  </tbody>\n",
       "</table>\n"
      ],
      "text/plain": [
       "<pandas.io.formats.style.Styler at 0x16b5bd4f0>"
      ]
     },
     "execution_count": 4,
     "metadata": {},
     "output_type": "execute_result"
    }
   ],
   "source": [
    "# Matches the textbook table\n",
    "corr = scores_df.corr()\n",
    "corr.style.background_gradient(cmap='coolwarm', vmin=-1, vmax=1)"
   ]
  },
  {
   "cell_type": "code",
   "execution_count": 5,
   "metadata": {},
   "outputs": [
    {
     "name": "stdout",
     "output_type": "stream",
     "text": [
      "Eigenvalues: [3.46267658 0.6599222  0.44717458 0.19665198 0.23357465]\n",
      "Eigen Ratio: [0.69253532 0.13198444 0.08943492 0.0393304  0.04671493]\n"
     ]
    }
   ],
   "source": [
    "eigenvalues, eigenvectors = np.linalg.eig(corr)\n",
    "print(\"Eigenvalues:\", eigenvalues)\n",
    "print(\"Eigen Ratio:\", eigenvalues / sum(eigenvalues))"
   ]
  },
  {
   "cell_type": "code",
   "execution_count": 6,
   "metadata": {},
   "outputs": [
    {
     "data": {
      "text/plain": [
       "np.float64(0.6925353153076885)"
      ]
     },
     "execution_count": 6,
     "metadata": {},
     "output_type": "execute_result"
    }
   ],
   "source": [
    "# Wrapping all of this into a function\n",
    "def eigen_ratio(observations: np.ndarray) -> int:\n",
    "    corr = np.corrcoef(observations.T)\n",
    "    eigenvalues, _ = np.linalg.eig(corr)\n",
    "    return eigenvalues[0] / sum(eigenvalues)\n",
    "  \n",
    "# Validating against the first pass\n",
    "eigen_ratio(scores_df.to_numpy())"
   ]
  },
  {
   "cell_type": "markdown",
   "metadata": {},
   "source": [
    "### 2) Bootstrap to Calculate $\\hat{se}_{boot}(\\hat{\\theta})$\n"
   ]
  },
  {
   "cell_type": "code",
   "execution_count": 7,
   "metadata": {},
   "outputs": [
    {
     "data": {
      "text/plain": [
       "(2000, 22, 5)"
      ]
     },
     "execution_count": 7,
     "metadata": {},
     "output_type": "execute_result"
    }
   ],
   "source": [
    "# Choose B=2000, matching the text example\n",
    "B = 2000\n",
    "\n",
    "def generate_bootstrap_samples(observations: np.ndarray, B: int) -> np.ndarray:\n",
    "  \"\"\"Generate B observations via resampling replacement, each matching the origal number of observations\n",
    "  \"\"\"\n",
    "  n = len(observations)\n",
    "  return np.array([observations[np.random.choice(n, n, replace=True)] for _ in range(B)])\n",
    "\n",
    "bootstrap_samples = generate_bootstrap_samples(scores_df.to_numpy(), B)\n",
    "bootstrap_samples.shape"
   ]
  },
  {
   "cell_type": "code",
   "execution_count": 8,
   "metadata": {},
   "outputs": [
    {
     "name": "stdout",
     "output_type": "stream",
     "text": [
      "0.07600552178803079\n"
     ]
    }
   ],
   "source": [
    "bootstrap_eigen_ratios = np.array([eigen_ratio(sample) for sample in bootstrap_samples])\n",
    "se_bootstrap_eigen_ratio = bootstrap_eigen_ratios.std(ddof=1) # Bessel's correction since this is subsample of all possible observations\n",
    "print(se_bootstrap_eigen_ratio) # ~0.075 matches the text example"
   ]
  },
  {
   "cell_type": "markdown",
   "metadata": {},
   "source": [
    "### 3) Jack Knife to Calculate $\\hat{se}_{jack}(\\hat{\\theta})$\n"
   ]
  },
  {
   "cell_type": "code",
   "execution_count": 9,
   "metadata": {},
   "outputs": [
    {
     "data": {
      "text/plain": [
       "(22, 21, 5)"
      ]
     },
     "execution_count": 9,
     "metadata": {},
     "output_type": "execute_result"
    }
   ],
   "source": [
    "def generate_jackknife_samples(observations: np.ndarray) -> np.ndarray:\n",
    "  n = len(observations)\n",
    "  return np.array([np.delete(observations, i, axis=0) for i in range(n)])\n",
    "\n",
    "jackknife_samples = generate_jackknife_samples(scores_df.to_numpy())\n",
    "jackknife_samples.shape"
   ]
  },
  {
   "cell_type": "code",
   "execution_count": 10,
   "metadata": {},
   "outputs": [
    {
     "name": "stdout",
     "output_type": "stream",
     "text": [
      "0.08300211310624547\n"
     ]
    }
   ],
   "source": [
    "jackknife_eigen_ratios = np.array([eigen_ratio(sample) for sample in jackknife_samples])\n",
    "\n",
    "n = len(jackknife_eigen_ratios)\n",
    "jackknife_var = np.var(jackknife_eigen_ratios,) * (n - 1)\n",
    "se_jackknife_eigen_ratio = np.sqrt(jackknife_var)\n",
    "print(se_jackknife_eigen_ratio) # ~0.083 matches the text example"
   ]
  }
 ],
 "metadata": {
  "kernelspec": {
   "display_name": "ds",
   "language": "python",
   "name": "python3"
  },
  "language_info": {
   "codemirror_mode": {
    "name": "ipython",
    "version": 3
   },
   "file_extension": ".py",
   "mimetype": "text/x-python",
   "name": "python",
   "nbconvert_exporter": "python",
   "pygments_lexer": "ipython3",
   "version": "3.12.9"
  }
 },
 "nbformat": 4,
 "nbformat_minor": 2
}
